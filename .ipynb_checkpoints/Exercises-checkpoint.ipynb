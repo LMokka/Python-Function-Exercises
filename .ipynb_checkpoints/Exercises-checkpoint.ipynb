{
 "cells": [
  {
   "cell_type": "markdown",
   "metadata": {},
   "source": [
    "### Exercise 1"
   ]
  },
  {
   "cell_type": "markdown",
   "metadata": {},
   "source": [
    "Given an array of positive integers `nums`, return a list of all of the negative integers.<br>\n",
    "Ex. 1<br>\n",
    "nums = [1, 3, 5, 7, 8]<br>\n",
    "Expected Output: [-1, -3, -5, -7, -8]<br>\n",
    "\n",
    "Ex. 2<br>\n",
    "nums = [100, 534, 32, 15, 77, 222, 788, 345, 75645, 22]<br>\n",
    "Expected Output: [-100, -534, -32, -15, -77, -222, -788, -345, -75645, -22]<br>"
   ]
  },
  {
   "cell_type": "code",
   "execution_count": 111,
   "metadata": {},
   "outputs": [
    {
     "name": "stdout",
     "output_type": "stream",
     "text": [
      "[-1, -3, -5, -7, -8]\n",
      "[-100, -534, -32, -25, -77, -222, -788, -75645, -22]\n",
      "[-1, -3, -5, -7, -8]\n",
      "[-100, -534, -32, -25, -77, -222, -788, -75645, -22]\n"
     ]
    }
   ],
   "source": [
    "nums = [1,3,5,7,8]\n",
    "nums2 = [100,534,32,25,77,222,788,75645,22]\n",
    "\n",
    "def positive_int(nums):\n",
    "    neg_nums=[]\n",
    "    for num in nums:\n",
    "        neg_nums.append(-num)\n",
    "    return neg_nums\n",
    "\n",
    "print(positive_int(nums))\n",
    "print(positive_int(nums2))\n",
    "\n",
    "def positive_int_comp(nums):\n",
    "    return[-num for num in nums]\n",
    "\n",
    "print(positive_int_comp(nums))\n",
    "print(positive_int_comp(nums2))"
   ]
  },
  {
   "cell_type": "markdown",
   "metadata": {},
   "source": [
    "### Exercise 2"
   ]
  },
  {
   "cell_type": "markdown",
   "metadata": {},
   "source": [
    "Given a string, return a list of all of the digits in the string.<br>\n",
    "Ex. 1 <br>\n",
    "address = \"123 Real Street, Apt. 2, Springfield, OR 43498\"<br>\n",
    "Expected Output: ['1', '2', '3', '2', '4', '3', '4', '9', '8']<br>\n",
    "\n",
    "Ex. 2 <br>\n",
    "sentence = \"My phone number is (555) 555-4321\"<br>\n",
    "Expected Output: ['5', '5', '5', '5', '5', '5', '4', '3', '2', '1']<br>"
   ]
  },
  {
   "cell_type": "code",
   "execution_count": 130,
   "metadata": {},
   "outputs": [
    {
     "name": "stdout",
     "output_type": "stream",
     "text": [
      "['1', '2', '3', '2', '4', '3', '4', '9', '8']\n",
      "['5', '5', '5', '5', '5', '5', '4', '3', '2', '1']\n",
      "['1', '2', '3', '2', '4', '3', '4', '9', '8']\n",
      "['5', '5', '5', '5', '5', '5', '4', '3', '2', '1']\n"
     ]
    }
   ],
   "source": [
    "# Hint: Look at the string methods! -- help(str)\n",
    "address = \"123 Real Street, Apt. 2, Springfield, OR 43498\"\n",
    "sentence = \"My phone number is (555) 555-4321\"\n",
    "\n",
    "def numadd(address):\n",
    "    address2 = []\n",
    "    for i in address:\n",
    "        if i.isdigit():\n",
    "            address2.append(i)\n",
    "    return address2\n",
    "\n",
    "print(numadd(address))\n",
    "print(numadd(sentence))\n",
    "\n",
    "def numaddcomp(address):\n",
    "    return [i for i in address if i.isdigit()]\n",
    "print(numaddcomp(address))\n",
    "print(numaddcomp(sentence))\n",
    "\n",
    "#def add(address):\n",
    "    #address2 = []\n",
    "    #for i in address:\n",
    "        #address2.append(str(ord(i)))\n",
    "    #return address2\n",
    "\n",
    "#print(add(address))\n",
    "\n"
   ]
  },
  {
   "cell_type": "markdown",
   "metadata": {},
   "source": [
    "### Exercise 3"
   ]
  },
  {
   "cell_type": "markdown",
   "metadata": {},
   "source": [
    "Given a string `digits`, return a **string** of the digits + 1<br>\n",
    "\n",
    "Ex. 1<br>\n",
    "digits = '123'<br>\n",
    "Expected Output: '124'<br>\n",
    "\n",
    "Ex. 2<br>\n",
    "digits = '99'<br>\n",
    "Expected Output: '100'<br>"
   ]
  },
  {
   "cell_type": "code",
   "execution_count": 123,
   "metadata": {},
   "outputs": [
    {
     "name": "stdout",
     "output_type": "stream",
     "text": [
      "'124'\n",
      "'100'\n",
      "'124'\n",
      "'100'\n"
     ]
    }
   ],
   "source": [
    "digits = '123'\n",
    "digitz = '99'\n",
    "\n",
    "def adddigits(digits):\n",
    "    digits = int(digits)\n",
    "    digits2 = digits+1\n",
    "    digits2 = str(digits2)\n",
    "    return \"'\"+digits2+\"'\"\n",
    "\n",
    "print(adddigits(digits))\n",
    "print(adddigits(digitz))\n",
    "\n",
    "def adddigitscomp(digits):\n",
    "    return \"'\"+str(int(digits)+1)+\"'\"\n",
    "print(adddigitscomp(digits))\n",
    "print(adddigitscomp(digitz))"
   ]
  }
 ],
 "metadata": {
  "kernelspec": {
   "display_name": "Python 3",
   "language": "python",
   "name": "python3"
  },
  "language_info": {
   "codemirror_mode": {
    "name": "ipython",
    "version": 3
   },
   "file_extension": ".py",
   "mimetype": "text/x-python",
   "name": "python",
   "nbconvert_exporter": "python",
   "pygments_lexer": "ipython3",
   "version": "3.8.8"
  }
 },
 "nbformat": 4,
 "nbformat_minor": 4
}
